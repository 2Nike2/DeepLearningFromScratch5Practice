{
 "cells": [
  {
   "cell_type": "code",
   "execution_count": null,
   "metadata": {},
   "outputs": [],
   "source": [
    "import torch\n",
    "\n",
    "print(torch.__version__)\n",
    "\n",
    "import matplotlib.pyplot as plt\n",
    "import numpy as np"
   ]
  },
  {
   "cell_type": "code",
   "execution_count": null,
   "metadata": {},
   "outputs": [],
   "source": [
    "x = torch.tensor(5.0)\n",
    "\n",
    "y = 3 * x ** 2\n",
    "print(y)"
   ]
  },
  {
   "cell_type": "code",
   "execution_count": null,
   "metadata": {},
   "outputs": [],
   "source": [
    "x = torch.tensor(5.0, requires_grad=True)\n",
    "y = 3 * x ** 2\n",
    "\n",
    "y.backward()\n",
    "print(x.grad)"
   ]
  },
  {
   "cell_type": "code",
   "execution_count": null,
   "metadata": {},
   "outputs": [],
   "source": [
    "def rosenbrock(x0, x1):\n",
    "    y = 100 * (x1 - x0 ** 2) ** 2 + (x0 - 1) ** 2\n",
    "    return y"
   ]
  },
  {
   "cell_type": "code",
   "execution_count": null,
   "metadata": {},
   "outputs": [],
   "source": [
    "x0 = torch.tensor(0.0, requires_grad=True)\n",
    "x1 = torch.tensor(2.0, requires_grad=True)"
   ]
  },
  {
   "cell_type": "code",
   "execution_count": null,
   "metadata": {},
   "outputs": [],
   "source": [
    "y = rosenbrock(x0, x1)\n",
    "y.backward()\n",
    "print(x0.grad, x1.grad)"
   ]
  },
  {
   "cell_type": "code",
   "execution_count": null,
   "metadata": {},
   "outputs": [],
   "source": [
    "x_range = np.arange(-2, 2, 0.01)\n",
    "y_range = np.arange(-1, 3, 0.01)\n",
    "\n",
    "x_range, y_range = np.meshgrid(x_range, y_range)\n",
    "x_ravel = x_range.ravel()\n",
    "y_ravel = y_range.ravel()\n",
    "\n",
    "z_ravel = []\n",
    "for temp_x, temp_y in zip(x_ravel, y_ravel):\n",
    "    z_ravel.append(rosenbrock(temp_x, temp_y))\n",
    "    \n",
    "z_reshaped = np.array(z_ravel).reshape(x_range.shape)\n"
   ]
  },
  {
   "cell_type": "code",
   "execution_count": null,
   "metadata": {},
   "outputs": [],
   "source": [
    "fig, ax = plt.subplots()\n",
    "ax.contour(x_range, y_range, z_reshaped, levels=2000)\n",
    "plt.show()"
   ]
  },
  {
   "cell_type": "code",
   "execution_count": null,
   "metadata": {},
   "outputs": [],
   "source": [
    "x0 = torch.tensor(0.0, requires_grad=True)\n",
    "x1 = torch.tensor(2.0, requires_grad=True)\n",
    "\n",
    "lr = 0.001\n",
    "iters = 10000\n",
    "\n",
    "xy_list = []\n",
    "for i in range(iters):\n",
    "    if i % 1000 == 0:\n",
    "        print(x0.item(), x1.item())\n",
    "    \n",
    "    y = rosenbrock(x0, x1)\n",
    "    \n",
    "    y.backward()\n",
    "    \n",
    "    x0.data -= lr * x0.grad.data\n",
    "    x1.data -= lr * x1.grad.data\n",
    "    \n",
    "    x0.grad.zero_()\n",
    "    x1.grad.zero_()\n",
    "    \n",
    "    xy_list.append([x0.item(), x1.item()])\n",
    "\n",
    "print(x0.item(), x1.item())"
   ]
  },
  {
   "cell_type": "code",
   "execution_count": null,
   "metadata": {},
   "outputs": [],
   "source": [
    "fig, ax = plt.subplots()\n",
    "ax.contour(x_range, y_range, z_reshaped, levels=2000)\n",
    "for i, (temp_x, temp_y) in enumerate(xy_list):\n",
    "    markersize = 3 if i % 100 == 0 else 1\n",
    "    ax.plot(temp_x, temp_y, 'ro-', markersize=markersize)\n",
    "plt.show()\n",
    "    "
   ]
  },
  {
   "cell_type": "code",
   "execution_count": null,
   "metadata": {},
   "outputs": [],
   "source": []
  }
 ],
 "metadata": {
  "kernelspec": {
   "display_name": "venv",
   "language": "python",
   "name": "python3"
  },
  "language_info": {
   "codemirror_mode": {
    "name": "ipython",
    "version": 3
   },
   "file_extension": ".py",
   "mimetype": "text/x-python",
   "name": "python",
   "nbconvert_exporter": "python",
   "pygments_lexer": "ipython3",
   "version": "3.10.6"
  }
 },
 "nbformat": 4,
 "nbformat_minor": 2
}
